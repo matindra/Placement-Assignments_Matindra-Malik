{
 "cells": [
  {
   "cell_type": "markdown",
   "metadata": {},
   "source": [
    "Question 1: -\n",
    "\n",
    "Write a program that takes a string as input, and counts the frequency of each word in the string, there might be repeated characters in the string. Your task is to find the highest frequency and returns the length of the highest-frequency word.\n",
    "\n",
    "Note - You have to write at least 2 additional test cases in which your program will run successfully and provide an explanation for the same.\n",
    "\n",
    "Example input - string = “write write write all the number from from from 1 to 100”\n",
    "\n",
    "Example output - 5\n",
    "\n",
    "Explaination - From the given string we can note that the most frequent words are “write” and “from” and the maximum value of both the values is “write” and its corresponding length is 5"
   ]
  },
  {
   "cell_type": "code",
   "execution_count": 8,
   "metadata": {},
   "outputs": [
    {
     "name": "stdout",
     "output_type": "stream",
     "text": [
      "6\n",
      "4\n"
     ]
    }
   ],
   "source": [
    "def highest_frequency(input_string):\n",
    "    words = input_string.split()\n",
    "\n",
    "    word_counts = {}\n",
    "    for word in words:\n",
    "        word_counts[word] = word_counts.get(word, 0) + 1\n",
    "\n",
    "    max_frequency = 0\n",
    "    for count in word_counts.values():\n",
    "        if count > max_frequency:\n",
    "            max_frequency = count\n",
    "\n",
    "    highest_frequency_word_length = 0\n",
    "    for word, count in word_counts.items():\n",
    "        if count == max_frequency and len(word) > highest_frequency_word_length:\n",
    "            highest_frequency_word_length = len(word)\n",
    "\n",
    "    return highest_frequency_word_length\n",
    "\n",
    "\n",
    "# test case 1\n",
    "\n",
    "string = \"python java python java python java python\"\n",
    "result = highest_frequency(string)\n",
    "print(result)\n",
    "\n",
    "# Explaination: In this case, the word \"python\" appears four times, which is the highest frequency.\n",
    "# Its length is 6 characters, so the program returns 6.\n",
    "\n",
    "# test case 2\n",
    "string = \"data science machine learning data anayst data\"\n",
    "result = highest_frequency(string)\n",
    "print(result)\n",
    "\n",
    "# Explaination: In this case, the word \"data\" appears three times, which is the highest frequency.\n",
    "# Its length is 4 characters, so the program returns 4."
   ]
  },
  {
   "cell_type": "markdown",
   "metadata": {},
   "source": [
    "Question 2: -\n",
    "\n",
    "Consider a string to be valid if all characters of the string appear the same number of times. It is also valid if he can remove just one character at the index in the string, and the remaining characters will occur the same number of times. Given a string, determine if it is valid. If so, return YES , otherwise return NO .\n",
    "\n",
    "Note - You have to write at least 2 additional test cases in which your program will run successfully and provide an explanation for the same.\n",
    "\n",
    "Example input 1 - s = “abc”. This is a valid string because frequencies are { “a”: 1, “b”: 1, “c”: 1 }\n",
    "\n",
    "Example output 1- YES\n",
    "\n",
    "Example input 2 - s “abcc”. This string is not valid as we can remove only 1 occurrence of “c”. That leaves character frequencies of { “a”: 1, “b”: 1 , “c”: 2 }\n",
    "\n",
    "Example output 2 - NO"
   ]
  },
  {
   "cell_type": "code",
   "execution_count": 15,
   "metadata": {},
   "outputs": [
    {
     "name": "stdout",
     "output_type": "stream",
     "text": [
      "YES\n",
      "NO\n",
      "YES\n"
     ]
    }
   ],
   "source": [
    "def is_valid_string(s):\n",
    "    freq = {}\n",
    "    for char in s:\n",
    "        if char in freq:\n",
    "            freq[char] += 1\n",
    "        else:\n",
    "            freq[char] = 1\n",
    "    values = list(freq.values())\n",
    "    values.sort()\n",
    "    unique_values = set(values)\n",
    "    \n",
    "    if len(unique_values) == 1:\n",
    "        return \"YES\"\n",
    "    elif len(unique_values) == 2:\n",
    "        if values.count(values[0]) == 1 and values[0] == 1:\n",
    "            return \"YES\"\n",
    "        elif values.count(values[-1]) == 1 and values[-2] == values[-1] - 1:\n",
    "            return \"NO\"  \n",
    "    \n",
    "    return \"NO\"\n",
    "\n",
    "# Test Case 1\n",
    "\n",
    "s = \"xyz\"\n",
    "print(is_valid_string(s))  \n",
    "\n",
    "# Explaination: Output in this case is - YES. \n",
    "# This is a valid string because frequencies are { “a”: 1, “b”: 1, “c”: 1 }\n",
    "\n",
    "\n",
    "# Test Case 2\n",
    "\n",
    "s = \"xyzz\"\n",
    "print(is_valid_string(s))  \n",
    "\n",
    "# Explaination: Output in this case is - YES. \n",
    "# This is not a valid string because the occurrence of “z” is 2.\n",
    "# That leaves character frequencies of { “a”: 1, “b”: 1 , “c”: 2 }\n",
    "\n",
    "\n",
    "# Test Case 2\n",
    "s = \"xxyyzz\"\n",
    "print(is_valid_string(s))  \n",
    "\n",
    "# Explaination: Output in this case is - YES. \n",
    "# In this case, the string \"xxyyzz\" has three distinct characters: 'a', 'b', and 'c'. \n",
    "# The frequencies of these characters are [2, 2, 2], which are all equal.\n",
    "# Therefore, the output is \"YES\" since the string is already valid."
   ]
  },
  {
   "cell_type": "markdown",
   "metadata": {},
   "source": [
    "Question 3: -\n",
    "Write a program, which would download the data from the provided link, and then read the data and convert\n",
    "that into properly structured data and return it in Excel format."
   ]
  },
  {
   "cell_type": "code",
   "execution_count": 36,
   "metadata": {},
   "outputs": [
    {
     "name": "stdout",
     "output_type": "stream",
     "text": [
      "Data saved to pokedex.csv\n"
     ]
    }
   ],
   "source": [
    "#Answer 3\n",
    "\n",
    "import pandas as pd\n",
    "\n",
    "\n",
    "# Downloading the data from the provided link\n",
    "url = ('https://nbviewer.org/github/Biuni/PokemonGO-Pokedex/blob/master/pokedex.json')\n",
    "\n",
    "df  = pd.read_json(url)\n",
    "\n",
    "# Converting into pandas dataframe\n",
    "# df1 = pd.DataFrame(data)\n",
    "\n",
    "# Saving the dataframe to a CSV file\n",
    "df2 = df.to_csv(\"pokedex.csv\", index=False)\n",
    "\n",
    "print(\"Data saved to pokedex.csv\")"
   ]
  },
  {
   "cell_type": "code",
   "execution_count": 30,
   "metadata": {},
   "outputs": [
    {
     "name": "stdout",
     "output_type": "stream",
     "text": [
      "Data saved to nasa_data.csv\n"
     ]
    }
   ],
   "source": [
    "#Answer 4\n",
    "\n",
    "import pandas as pd\n",
    "\n",
    "# Downloading the data from the provided link\n",
    "url1 = \"https://data.nasa.gov/resource/y77d-th95.json\"\n",
    "\n",
    "# Converting the data into a pandas dataframe\n",
    "df3 = pd.read_json(url)\n",
    "\n",
    "# Converting into pandas dataframe\n",
    "df4 = pd.DataFrame(df3)\n",
    "\n",
    "# Saving the dataframe to a CSV file\n",
    "df4.to_csv(\"nasa_data.csv\", index=False)\n",
    "\n",
    "print(\"Data saved to nasa_data.csv\")"
   ]
  },
  {
   "cell_type": "code",
   "execution_count": 32,
   "metadata": {},
   "outputs": [
    {
     "name": "stdout",
     "output_type": "stream",
     "text": [
      "Show Name: Westworld\n",
      "Show Type: Scripted\n",
      "Show Language: English\n",
      "Show Genres: Drama, Science-Fiction, Western\n",
      "Show Status: Ended\n",
      "Show Runtime: 60\n",
      "Show Summary: Westworld is a dark odyssey about the dawn of artificial consciousness and the evolution of sin. Set at the intersection of the near future and the reimagined past, it explores a world in which every human appetite, no matter how noble or depraved, can be indulged.\n"
     ]
    },
    {
     "data": {
      "text/plain": [
       "'\\nExplanation :- This code downloads the data from the provided link using the requests library.\\nIt then extracts the required data from the JSON response and formats it as required.\\n\\n'"
      ]
     },
     "execution_count": 32,
     "metadata": {},
     "output_type": "execute_result"
    }
   ],
   "source": [
    "# Answer 5\n",
    "\n",
    "import requests\n",
    "\n",
    "# Downloading the data from the provided link\n",
    "url = \"http://api.tvmaze.com/singlesearch/shows?q=westworld&embed=episodes\"\n",
    "response = requests.get(url)\n",
    "\n",
    "# Extracting the required data\n",
    "data = response.json()\n",
    "show_name = data[\"name\"]\n",
    "show_type = data[\"type\"]\n",
    "show_language = data[\"language\"]\n",
    "show_genres = \", \".join(data[\"genres\"])\n",
    "show_status = data[\"status\"]\n",
    "show_runtime = data[\"runtime\"]\n",
    "show_summary = data[\"summary\"].replace(\"<p>\", \"\").replace(\"</p>\", \"\").replace(\"<b>\", \"\").replace(\"</b>\", \"\")\n",
    "\n",
    "print(\"Show Name:\", show_name)\n",
    "print(\"Show Type:\", show_type)\n",
    "print(\"Show Language:\", show_language)\n",
    "print(\"Show Genres:\", show_genres)\n",
    "print(\"Show Status:\", show_status)\n",
    "print(\"Show Runtime:\", show_runtime)\n",
    "print(\"Show Summary:\", show_summary)\n",
    "\n",
    "\n",
    "'''\n",
    "Explanation :- This code downloads the data from the provided link using the requests library.\n",
    "It then extracts the required data from the JSON response and formats it as required.\n",
    "\n",
    "'''"
   ]
  },
  {
   "cell_type": "code",
   "execution_count": null,
   "metadata": {},
   "outputs": [],
   "source": [
    "import pandas as pd\n",
    "import numpy as np\n",
    "\n",
    "df5 = pd.read_csv(\"pokedex.csv\")"
   ]
  },
  {
   "cell_type": "code",
   "execution_count": null,
   "metadata": {},
   "outputs": [],
   "source": []
  }
 ],
 "metadata": {
  "kernelspec": {
   "display_name": "Python 3 (ipykernel)",
   "language": "python",
   "name": "python3"
  },
  "language_info": {
   "codemirror_mode": {
    "name": "ipython",
    "version": 3
   },
   "file_extension": ".py",
   "mimetype": "text/x-python",
   "name": "python",
   "nbconvert_exporter": "python",
   "pygments_lexer": "ipython3",
   "version": "3.10.6"
  }
 },
 "nbformat": 4,
 "nbformat_minor": 2
}
