{
 "cells": [
  {
   "cell_type": "code",
   "execution_count": 3,
   "id": "9c6a1775",
   "metadata": {
    "vscode": {
     "languageId": "plaintext"
    }
   },
   "outputs": [
    {
     "name": "stdout",
     "output_type": "stream",
     "text": [
      "Data saved to nasa_data.csv\n"
     ]
    }
   ],
   "source": [
    "#Answer 4\n",
    "\n",
    "import pandas as pd\n",
    "\n",
    "# Downloading the data from the provided link\n",
    "url1 = \"https://data.nasa.gov/resource/y77d-th95.json\"\n",
    "\n",
    "# Converting the data into a pandas dataframe\n",
    "df3 = pd.read_json(url1)\n",
    "\n",
    "# Saving the dataframe to a CSV file\n",
    "df3.to_csv(\"nasa_data.csv\", index=False)\n",
    "\n",
    "print(\"Data saved to nasa_data.csv\")"
   ]
  },
  {
   "cell_type": "code",
   "execution_count": null,
   "id": "6fc126a3",
   "metadata": {
    "vscode": {
     "languageId": "plaintext"
    }
   },
   "outputs": [],
   "source": []
  }
 ],
 "metadata": {
  "kernelspec": {
   "display_name": "Python 3 (ipykernel)",
   "language": "python",
   "name": "python3"
  },
  "language_info": {
   "codemirror_mode": {
    "name": "ipython",
    "version": 3
   },
   "file_extension": ".py",
   "mimetype": "text/x-python",
   "name": "python",
   "nbconvert_exporter": "python",
   "pygments_lexer": "ipython3",
   "version": "3.10.6"
  }
 },
 "nbformat": 4,
 "nbformat_minor": 5
}
